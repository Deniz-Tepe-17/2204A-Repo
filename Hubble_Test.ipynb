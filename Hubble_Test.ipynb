{
 "cells": [
  {
   "cell_type": "code",
   "execution_count": 2,
   "id": "3c6576e5-7995-4fae-916a-d2f225c7ad4c",
   "metadata": {},
   "outputs": [],
   "source": [
    "from random import random, sample\n",
    "import numpy as np\n",
    "import matplotlib.pyplot as plt\n",
    "from PIL import Image\n",
    "\n",
    "import sys\n",
    "import os\n",
    "import time\n",
    "import re\n",
    "import json\n",
    " \n",
    "import requests\n",
    "from urllib.parse import quote as urlencode"
   ]
  },
  {
   "cell_type": "code",
   "execution_count": 3,
   "id": "37242200-2186-4847-8d91-a4ca5b70cda6",
   "metadata": {},
   "outputs": [],
   "source": [
    "import tensorflow as tf\n",
    "import tensorflow.keras.layers as L\n",
    "from tensorflow.keras.models import Model\n",
    "from keras.callbacks import EarlyStopping\n",
    "from tensorflow.compat.v1 import ConfigProto\n",
    "from tensorflow.compat.v1 import InteractiveSession\n",
    "\n",
    "from random import sample\n",
    "import numpy as np\n",
    "import matplotlib.pyplot as plt\n",
    "import pandas as pd\n",
    "\n",
    "import os\n"
   ]
  },
  {
   "cell_type": "code",
   "execution_count": 4,
   "id": "3ede2761-bceb-49f8-99b9-6437581d2ab8",
   "metadata": {},
   "outputs": [],
   "source": [
    "%run PSNR.ipynb"
   ]
  },
  {
   "cell_type": "code",
   "execution_count": 9,
   "id": "f07395ea",
   "metadata": {},
   "outputs": [],
   "source": [
    "def loss(y_true, y_pred):\n",
    "    error = tf.abs(y_true - y_pred)\n",
    "    weights = tf.abs(y_true)\n",
    "    #weights = (tf.abs(y_true) + tf.abs(y_pred)) / 2\n",
    "    weighted_loss = weights*error\n",
    "    return tf.reduce_mean(weighted_loss)"
   ]
  },
  {
   "cell_type": "code",
   "execution_count": 12,
   "id": "7824841f-b7bd-48eb-b39a-fcb676adbab7",
   "metadata": {},
   "outputs": [],
   "source": [
    "dire = \"E:\\\\YAD\\\\YAD_İşlenmiş_Düzgün\\\\Test\\\\\"\n",
    "pred_dir = \"H:\\\\pred\\\\\"\n",
    "\n",
    "distorted_metricmae = []\n",
    "pred_metricmae = []\n",
    "\n",
    "distorted_metricmse = []\n",
    "pred_metricmse = []\n",
    "\n",
    "distorted_metricpsnr = []\n",
    "pred_metricpsnr = []\n",
    "\n",
    "distorted_metricloss = []\n",
    "pred_metricloss = []\n",
    "\n",
    "for filename in os.listdir(dire):\n",
    "    if filename.endswith(\".npy\"):\n",
    "        initial = np.load(os.path.join(dire, filename))\n",
    "\n",
    "        noisy = initial[0]\n",
    "        clean = initial[1]\n",
    "        \n",
    "        try:\n",
    "            pred = noisy + np.load(os.path.join(pred_dir, \"predmap\" + filename))[0]\n",
    "        except:\n",
    "            continue\n",
    "            \n",
    "        distorted_metricmae.append(tf.keras.metrics.MAE(clean, noisy))\n",
    "        pred_metricmae.append(tf.keras.metrics.MAE(clean, pred))\n",
    "        \n",
    "        distorted_metricmse.append(tf.keras.metrics.MSE(clean, noisy))\n",
    "        pred_metricmse.append(tf.keras.metrics.MSE(clean, pred))\n",
    "        \n",
    "        distorted_metricpsnr.append(psnr(clean, noisy))\n",
    "        pred_metricpsnr.append(psnr(clean, pred))\n",
    "        \n",
    "        distorted_metricloss.append(loss(clean, noisy))\n",
    "        pred_metricloss.append(loss(clean, pred))\n",
    "        \n",
    "        print(len(distorted_metricmse))\n",
    "\n",
    "np.save(\"E:\\\\YAD\\\\Sonuçlar\\\\maedistorted.npy\", np.array(distorted_metricmae))\n",
    "np.save(\"E:\\\\YAD\\\\Sonuçlar\\\\maepred.npy\", np.array(pred_metricmae))\n",
    "\n",
    "np.save(\"E:\\\\YAD\\\\Sonuçlar\\\\msedistorted.npy\", np.array(distorted_metricmse))\n",
    "np.save(\"E:\\\\YAD\\\\Sonuçlar\\\\msepred.npy\", np.array(pred_metricmse))\n",
    "\n",
    "np.save(\"E:\\\\YAD\\\\Sonuçlar\\\\psnrdistorted.npy\", np.array(distorted_metricpsnr))\n",
    "np.save(\"E:\\\\YAD\\\\Sonuçlar\\\\psnrpred.npy\", np.array(pred_metricpsnr))\n",
    "\n",
    "np.save(\"E:\\\\YAD\\\\Sonuçlar\\\\lossdistorted.npy\", np.array(distorted_metricloss))\n",
    "np.save(\"E:\\\\YAD\\\\Sonuçlar\\\\losspred.npy\", np.array(pred_metricloss))\n",
    "        "
   ]
  }
 ],
 "metadata": {
  "kernelspec": {
   "display_name": "Python 3 (ipykernel)",
   "language": "python",
   "name": "python3"
  },
  "language_info": {
   "codemirror_mode": {
    "name": "ipython",
    "version": 3
   },
   "file_extension": ".py",
   "mimetype": "text/x-python",
   "name": "python",
   "nbconvert_exporter": "python",
   "pygments_lexer": "ipython3",
   "version": "3.8.18"
  }
 },
 "nbformat": 4,
 "nbformat_minor": 5
}
